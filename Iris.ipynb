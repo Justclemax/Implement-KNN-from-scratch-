{
 "cells": [
  {
   "cell_type": "code",
   "execution_count": 161,
   "id": "be4626b9-82d2-419c-8fac-43cd62cc2a78",
   "metadata": {},
   "outputs": [
    {
     "name": "stdout",
     "output_type": "stream",
     "text": [
      "5.1, 3.5, 1.4, 0.2, Iris-setosa\n",
      "4.9, 3.0, 1.4, 0.2, Iris-setosa\n",
      "4.7, 3.2, 1.3, 0.2, Iris-setosa\n",
      "4.6, 3.1, 1.5, 0.2, Iris-setosa\n",
      "5.0, 3.6, 1.4, 0.2, Iris-setosa\n",
      "5.4, 3.9, 1.7, 0.4, Iris-setosa\n",
      "4.6, 3.4, 1.4, 0.3, Iris-setosa\n",
      "5.0, 3.4, 1.5, 0.2, Iris-setosa\n",
      "4.4, 2.9, 1.4, 0.2, Iris-setosa\n",
      "4.9, 3.1, 1.5, 0.1, Iris-setosa\n",
      "5.4, 3.7, 1.5, 0.2, Iris-setosa\n",
      "4.8, 3.4, 1.6, 0.2, Iris-setosa\n",
      "4.8, 3.0, 1.4, 0.1, Iris-setosa\n",
      "4.3, 3.0, 1.1, 0.1, Iris-setosa\n",
      "5.8, 4.0, 1.2, 0.2, Iris-setosa\n",
      "5.7, 4.4, 1.5, 0.4, Iris-setosa\n",
      "5.4, 3.9, 1.3, 0.4, Iris-setosa\n",
      "5.1, 3.5, 1.4, 0.3, Iris-setosa\n",
      "5.7, 3.8, 1.7, 0.3, Iris-setosa\n",
      "5.1, 3.8, 1.5, 0.3, Iris-setosa\n",
      "5.4, 3.4, 1.7, 0.2, Iris-setosa\n",
      "5.1, 3.7, 1.5, 0.4, Iris-setosa\n",
      "4.6, 3.6, 1.0, 0.2, Iris-setosa\n",
      "5.1, 3.3, 1.7, 0.5, Iris-setosa\n",
      "4.8, 3.4, 1.9, 0.2, Iris-setosa\n",
      "5.0, 3.0, 1.6, 0.2, Iris-setosa\n",
      "5.0, 3.4, 1.6, 0.4, Iris-setosa\n",
      "5.2, 3.5, 1.5, 0.2, Iris-setosa\n",
      "5.2, 3.4, 1.4, 0.2, Iris-setosa\n",
      "4.7, 3.2, 1.6, 0.2, Iris-setosa\n",
      "4.8, 3.1, 1.6, 0.2, Iris-setosa\n",
      "5.4, 3.4, 1.5, 0.4, Iris-setosa\n",
      "5.2, 4.1, 1.5, 0.1, Iris-setosa\n",
      "5.5, 4.2, 1.4, 0.2, Iris-setosa\n",
      "4.9, 3.1, 1.5, 0.1, Iris-setosa\n",
      "5.0, 3.2, 1.2, 0.2, Iris-setosa\n",
      "5.5, 3.5, 1.3, 0.2, Iris-setosa\n",
      "4.9, 3.1, 1.5, 0.1, Iris-setosa\n",
      "4.4, 3.0, 1.3, 0.2, Iris-setosa\n",
      "5.1, 3.4, 1.5, 0.2, Iris-setosa\n",
      "5.0, 3.5, 1.3, 0.3, Iris-setosa\n",
      "4.5, 2.3, 1.3, 0.3, Iris-setosa\n",
      "4.4, 3.2, 1.3, 0.2, Iris-setosa\n",
      "5.0, 3.5, 1.6, 0.6, Iris-setosa\n",
      "5.1, 3.8, 1.9, 0.4, Iris-setosa\n",
      "4.8, 3.0, 1.4, 0.3, Iris-setosa\n",
      "5.1, 3.8, 1.6, 0.2, Iris-setosa\n",
      "4.6, 3.2, 1.4, 0.2, Iris-setosa\n",
      "5.3, 3.7, 1.5, 0.2, Iris-setosa\n",
      "5.0, 3.3, 1.4, 0.2, Iris-setosa\n",
      "7.0, 3.2, 4.7, 1.4, Iris-versicolor\n",
      "6.4, 3.2, 4.5, 1.5, Iris-versicolor\n",
      "6.9, 3.1, 4.9, 1.5, Iris-versicolor\n",
      "5.5, 2.3, 4.0, 1.3, Iris-versicolor\n",
      "6.5, 2.8, 4.6, 1.5, Iris-versicolor\n",
      "5.7, 2.8, 4.5, 1.3, Iris-versicolor\n",
      "6.3, 3.3, 4.7, 1.6, Iris-versicolor\n",
      "4.9, 2.4, 3.3, 1.0, Iris-versicolor\n",
      "6.6, 2.9, 4.6, 1.3, Iris-versicolor\n",
      "5.2, 2.7, 3.9, 1.4, Iris-versicolor\n",
      "5.0, 2.0, 3.5, 1.0, Iris-versicolor\n",
      "5.9, 3.0, 4.2, 1.5, Iris-versicolor\n",
      "6.0, 2.2, 4.0, 1.0, Iris-versicolor\n",
      "6.1, 2.9, 4.7, 1.4, Iris-versicolor\n",
      "5.6, 2.9, 3.6, 1.3, Iris-versicolor\n",
      "6.7, 3.1, 4.4, 1.4, Iris-versicolor\n",
      "5.6, 3.0, 4.5, 1.5, Iris-versicolor\n",
      "5.8, 2.7, 4.1, 1.0, Iris-versicolor\n",
      "6.2, 2.2, 4.5, 1.5, Iris-versicolor\n",
      "5.6, 2.5, 3.9, 1.1, Iris-versicolor\n",
      "5.9, 3.2, 4.8, 1.8, Iris-versicolor\n",
      "6.1, 2.8, 4.0, 1.3, Iris-versicolor\n",
      "6.3, 2.5, 4.9, 1.5, Iris-versicolor\n",
      "6.1, 2.8, 4.7, 1.2, Iris-versicolor\n",
      "6.4, 2.9, 4.3, 1.3, Iris-versicolor\n",
      "6.6, 3.0, 4.4, 1.4, Iris-versicolor\n",
      "6.8, 2.8, 4.8, 1.4, Iris-versicolor\n",
      "6.7, 3.0, 5.0, 1.7, Iris-versicolor\n",
      "6.0, 2.9, 4.5, 1.5, Iris-versicolor\n",
      "5.7, 2.6, 3.5, 1.0, Iris-versicolor\n",
      "5.5, 2.4, 3.8, 1.1, Iris-versicolor\n",
      "5.5, 2.4, 3.7, 1.0, Iris-versicolor\n",
      "5.8, 2.7, 3.9, 1.2, Iris-versicolor\n",
      "6.0, 2.7, 5.1, 1.6, Iris-versicolor\n",
      "5.4, 3.0, 4.5, 1.5, Iris-versicolor\n",
      "6.0, 3.4, 4.5, 1.6, Iris-versicolor\n",
      "6.7, 3.1, 4.7, 1.5, Iris-versicolor\n",
      "6.3, 2.3, 4.4, 1.3, Iris-versicolor\n",
      "5.6, 3.0, 4.1, 1.3, Iris-versicolor\n",
      "5.5, 2.5, 4.0, 1.3, Iris-versicolor\n",
      "5.5, 2.6, 4.4, 1.2, Iris-versicolor\n",
      "6.1, 3.0, 4.6, 1.4, Iris-versicolor\n",
      "5.8, 2.6, 4.0, 1.2, Iris-versicolor\n",
      "5.0, 2.3, 3.3, 1.0, Iris-versicolor\n",
      "5.6, 2.7, 4.2, 1.3, Iris-versicolor\n",
      "5.7, 3.0, 4.2, 1.2, Iris-versicolor\n",
      "5.7, 2.9, 4.2, 1.3, Iris-versicolor\n",
      "6.2, 2.9, 4.3, 1.3, Iris-versicolor\n",
      "5.1, 2.5, 3.0, 1.1, Iris-versicolor\n",
      "5.7, 2.8, 4.1, 1.3, Iris-versicolor\n",
      "6.3, 3.3, 6.0, 2.5, Iris-virginica\n",
      "5.8, 2.7, 5.1, 1.9, Iris-virginica\n",
      "7.1, 3.0, 5.9, 2.1, Iris-virginica\n",
      "6.3, 2.9, 5.6, 1.8, Iris-virginica\n",
      "6.5, 3.0, 5.8, 2.2, Iris-virginica\n",
      "7.6, 3.0, 6.6, 2.1, Iris-virginica\n",
      "4.9, 2.5, 4.5, 1.7, Iris-virginica\n",
      "7.3, 2.9, 6.3, 1.8, Iris-virginica\n",
      "6.7, 2.5, 5.8, 1.8, Iris-virginica\n",
      "7.2, 3.6, 6.1, 2.5, Iris-virginica\n",
      "6.5, 3.2, 5.1, 2.0, Iris-virginica\n",
      "6.4, 2.7, 5.3, 1.9, Iris-virginica\n",
      "6.8, 3.0, 5.5, 2.1, Iris-virginica\n",
      "5.7, 2.5, 5.0, 2.0, Iris-virginica\n",
      "5.8, 2.8, 5.1, 2.4, Iris-virginica\n",
      "6.4, 3.2, 5.3, 2.3, Iris-virginica\n",
      "6.5, 3.0, 5.5, 1.8, Iris-virginica\n",
      "7.7, 3.8, 6.7, 2.2, Iris-virginica\n",
      "7.7, 2.6, 6.9, 2.3, Iris-virginica\n",
      "6.0, 2.2, 5.0, 1.5, Iris-virginica\n",
      "6.9, 3.2, 5.7, 2.3, Iris-virginica\n",
      "5.6, 2.8, 4.9, 2.0, Iris-virginica\n",
      "7.7, 2.8, 6.7, 2.0, Iris-virginica\n",
      "6.3, 2.7, 4.9, 1.8, Iris-virginica\n",
      "6.7, 3.3, 5.7, 2.1, Iris-virginica\n",
      "7.2, 3.2, 6.0, 1.8, Iris-virginica\n",
      "6.2, 2.8, 4.8, 1.8, Iris-virginica\n",
      "6.1, 3.0, 4.9, 1.8, Iris-virginica\n",
      "6.4, 2.8, 5.6, 2.1, Iris-virginica\n",
      "7.2, 3.0, 5.8, 1.6, Iris-virginica\n",
      "7.4, 2.8, 6.1, 1.9, Iris-virginica\n",
      "7.9, 3.8, 6.4, 2.0, Iris-virginica\n",
      "6.4, 2.8, 5.6, 2.2, Iris-virginica\n",
      "6.3, 2.8, 5.1, 1.5, Iris-virginica\n",
      "6.1, 2.6, 5.6, 1.4, Iris-virginica\n",
      "7.7, 3.0, 6.1, 2.3, Iris-virginica\n",
      "6.3, 3.4, 5.6, 2.4, Iris-virginica\n",
      "6.4, 3.1, 5.5, 1.8, Iris-virginica\n",
      "6.0, 3.0, 4.8, 1.8, Iris-virginica\n",
      "6.9, 3.1, 5.4, 2.1, Iris-virginica\n",
      "6.7, 3.1, 5.6, 2.4, Iris-virginica\n",
      "6.9, 3.1, 5.1, 2.3, Iris-virginica\n",
      "5.8, 2.7, 5.1, 1.9, Iris-virginica\n",
      "6.8, 3.2, 5.9, 2.3, Iris-virginica\n",
      "6.7, 3.3, 5.7, 2.5, Iris-virginica\n",
      "6.7, 3.0, 5.2, 2.3, Iris-virginica\n",
      "6.3, 2.5, 5.0, 1.9, Iris-virginica\n",
      "6.5, 3.0, 5.2, 2.0, Iris-virginica\n",
      "6.2, 3.4, 5.4, 2.3, Iris-virginica\n",
      "5.9, 3.0, 5.1, 1.8, Iris-virginica\n"
     ]
    }
   ],
   "source": [
    "import csv\n",
    "import pandas as pd\n",
    "with open('iris.data.txt', 'r') as csvfile:\n",
    "\n",
    "    lines = csv.reader(csvfile)\n",
    "\n",
    "    for row in lines :\n",
    "\n",
    "        print (', '.join(row))\n",
    "        \n",
    "\n",
    "\n"
   ]
  },
  {
   "cell_type": "markdown",
   "id": "d5508e9b-b097-456e-a3bd-c6c3b5bf6889",
   "metadata": {},
   "source": [
    "# 1. Gérer les données\n",
    "\n"
   ]
  },
  {
   "cell_type": "code",
   "execution_count": 221,
   "id": "773f842d",
   "metadata": {},
   "outputs": [],
   "source": [
    "import random\n",
    "\n",
    "def loadDataset(filename, split, trainingSet=[] , testSet=[]):\n",
    "    with open(filename,'r' ) as csvfile:\n",
    "        lines = csv.reader(csvfile)\n",
    "        dataset = list(lines)\n",
    "        for x in range(len(dataset)):\n",
    "            for y in range(4):\n",
    "                dataset[x][y] = float(dataset[x][y])-1.0\n",
    "            if random.random() < split:\n",
    "                trainingSet.append(dataset[y])\n",
    "            else:\n",
    "                testSet.append(dataset[x])"
   ]
  },
  {
   "cell_type": "code",
   "execution_count": 236,
   "id": "207e4e98-e2ea-4a3c-a7b2-ea886e11071c",
   "metadata": {},
   "outputs": [
    {
     "name": "stdout",
     "output_type": "stream",
     "text": [
      "Train: 84\n",
      "Test: 66\n"
     ]
    }
   ],
   "source": [
    "trainingSet=[]\n",
    "\n",
    "testSet=[]\n",
    "\n",
    "loadDataset('iris.data.txt', 0.60, trainingSet, testSet)\n",
    "\n",
    "print ('Train: ' + repr(len(trainingSet)))\n",
    "\n",
    "print ('Test: ' + repr(len(testSet)) )\n"
   ]
  },
  {
   "cell_type": "markdown",
   "id": "174a812a-b41c-4592-8d35-0f8454a86ac9",
   "metadata": {},
   "source": [
    "On  divise les données en un ensemble de données d'entraînement"
   ]
  },
  {
   "cell_type": "markdown",
   "id": "307682b2-4aa3-4f46-885a-97103c1bc20b",
   "metadata": {},
   "source": [
    "#  2.Similitude"
   ]
  },
  {
   "cell_type": "code",
   "execution_count": 164,
   "id": "c8daba83-4ece-4f75-982f-89d94b9798f9",
   "metadata": {},
   "outputs": [],
   "source": [
    "import math\n",
    "\n",
    "def euclideanDistance(x, y, exposant):\n",
    "    distance = 0\n",
    "    for i in range(exposant):\n",
    "        distance = distance + (pow((x[i] - y[i]), 2))\n",
    "        \n",
    "    return round(math.sqrt(distance),3)\n",
    "# Pow est  une fonction intégrée en Python qui est utilisée pour calculer la puissance d’un nombre donné\n",
    "# La syntaxe est pow(x,y)\n",
    "# pow(x,y,z) est équivalent à (x**y)%z\n"
   ]
  },
  {
   "cell_type": "markdown",
   "id": "8cd36f90-dba6-42de-8669-870248e52326",
   "metadata": {},
   "source": [
    "on test notre fonction "
   ]
  },
  {
   "cell_type": "code",
   "execution_count": 165,
   "id": "4c118071-0fd4-4a4d-8335-2c7e004b72d2",
   "metadata": {},
   "outputs": [
    {
     "name": "stdout",
     "output_type": "stream",
     "text": [
      "Distance: 3.464\n"
     ]
    }
   ],
   "source": [
    "data1 = [2, 2, 2, 'a']\n",
    "\n",
    "data2 = [4, 4, 4, 'b']\n",
    "\n",
    "distance = euclideanDistance(data1, data2, 3)\n",
    "\n",
    "print ('Distance: ' + repr(distance))"
   ]
  },
  {
   "cell_type": "markdown",
   "id": "c4943ce4-ebfb-415e-8213-3f07f8bb3a6c",
   "metadata": {},
   "source": [
    "# 3. Voisins"
   ]
  },
  {
   "cell_type": "code",
   "execution_count": 166,
   "id": "ae088d64-a32c-4ef2-8a28-2076911bc559",
   "metadata": {},
   "outputs": [],
   "source": [
    "import operator \n",
    "# Cette fonction nous permet de trouver les voisins \n",
    "\n",
    "def getNeighbors(trainingSet, testInstance, k):\n",
    "    distances = [] # # Création d' une liste avec tous les voisins possibles\n",
    "    length = len(testInstance)-1\n",
    "    for x in range(len(trainingSet)):\n",
    "        dist = euclideanDistance(testInstance, trainingSet[x], length)\n",
    "        distances.append((trainingSet[x], dist))\n",
    "    distances.sort(key = operator.itemgetter(1))\n",
    "    neighbors = []\n",
    "    for x in range(k):\n",
    "        neighbors.append(distances[x][0])\n",
    "    return neighbors"
   ]
  },
  {
   "cell_type": "code",
   "execution_count": 167,
   "id": "57f1a3c7-d7d8-44b7-acc5-8e37eeae9f3c",
   "metadata": {},
   "outputs": [
    {
     "name": "stdout",
     "output_type": "stream",
     "text": [
      "[[4, 4, 4, 'b']]\n"
     ]
    }
   ],
   "source": [
    "trainSet = [[2, 2, 2, 'a'], [4, 4, 4, 'b'],]\n",
    "\n",
    "testInstance = [5, 5, 5]\n",
    "\n",
    "k = 1\n",
    "\n",
    "neighbors = getNeighbors(trainSet, testInstance, 1)\n",
    "\n",
    "print(neighbors)"
   ]
  },
  {
   "cell_type": "markdown",
   "id": "40287165-1755-404d-8689-5e6c56902e55",
   "metadata": {},
   "source": [
    "# 4. Réponse"
   ]
  },
  {
   "cell_type": "code",
   "execution_count": 168,
   "id": "1e328d3f-682a-43cf-8ce7-75aafc0d0dc4",
   "metadata": {},
   "outputs": [],
   "source": [
    "\n",
    "\n",
    "def getResponse(neighbors):\n",
    "    \n",
    "    classVotes = {}\n",
    "    for x in range(len(neighbors)):\n",
    "        response = neighbors[x][-1]\n",
    "        if response in classVotes:\n",
    "            classVotes[response] += 1\n",
    "        else:\n",
    "            classVotes[response] = 1\n",
    "    sortedVotes = sorted(classVotes.items(), key=operator.itemgetter(1), reverse=True)\n",
    "    return sortedVotes[0][0]"
   ]
  },
  {
   "cell_type": "code",
   "execution_count": 169,
   "id": "d1765684-75c3-4966-b55e-6892b95308e5",
   "metadata": {},
   "outputs": [
    {
     "name": "stdout",
     "output_type": "stream",
     "text": [
      "La reponse est  a\n"
     ]
    }
   ],
   "source": [
    "neighbors = [[1,1,1,'b'], [2,2,2,'a'], [3,3,3,'b'], [5, 5, 5,'a'],[1, 1, 1,'a']]\n",
    "\n",
    "response = getResponse(neighbors)\n",
    "\n",
    "print(\"La reponse est \",response)\n",
    "\n"
   ]
  },
  {
   "cell_type": "markdown",
   "id": "b4cf7f6e-6e5e-4bdd-b4aa-5b29f8283d2f",
   "metadata": {},
   "source": [
    "# 5. Précision"
   ]
  },
  {
   "cell_type": "code",
   "execution_count": 170,
   "id": "2bee1976-9abc-4c80-867b-fe0049a2b181",
   "metadata": {},
   "outputs": [],
   "source": [
    "#Cette fonction nous permet de calculer de la precision de modele \n",
    "\n",
    "def getAccuracy(testSet, predictions):\n",
    "\n",
    "    correct = 0 \n",
    "    for x in range(len(testSet)): # la fonction len() est utilisee pour \n",
    "        if testSet[x][-1] == predictions[x]:\n",
    "            correct += 1\n",
    "    return round((correct/float(len(testSet))) * 100.0, 3)"
   ]
  },
  {
   "cell_type": "code",
   "execution_count": 171,
   "id": "70b20a92-afd2-4255-aa4e-2fb74d8ee64e",
   "metadata": {},
   "outputs": [
    {
     "name": "stdout",
     "output_type": "stream",
     "text": [
      "Précision: 66.667\n"
     ]
    }
   ],
   "source": [
    "# Testons notre fonction \n",
    "\n",
    "\n",
    "testSet = [[1,1,1,'a'], [2,2,2,'a'], [3,3,3,'b']]\n",
    "\n",
    "predictions = ['a', 'a', 'a']\n",
    "\n",
    "precision = getAccuracy(testSet, predictions)\n",
    "\n",
    "print(F\"Précision: {precision}\")"
   ]
  },
  {
   "cell_type": "code",
   "execution_count": 172,
   "id": "e37f64ea-d5b8-4a25-a1ca-bf02c8f323a1",
   "metadata": {},
   "outputs": [
    {
     "name": "stdout",
     "output_type": "stream",
     "text": [
      "Train set: 105\n",
      "Test set: 45\n",
      "> La valeur predicte ='Iris-setosa', La valeur réelle='Iris-setosa'\n",
      "> La valeur predicte ='Iris-setosa', La valeur réelle='Iris-setosa'\n",
      "> La valeur predicte ='Iris-setosa', La valeur réelle='Iris-setosa'\n",
      "> La valeur predicte ='Iris-setosa', La valeur réelle='Iris-setosa'\n",
      "> La valeur predicte ='Iris-setosa', La valeur réelle='Iris-setosa'\n",
      "> La valeur predicte ='Iris-setosa', La valeur réelle='Iris-setosa'\n",
      "> La valeur predicte ='Iris-setosa', La valeur réelle='Iris-setosa'\n",
      "> La valeur predicte ='Iris-setosa', La valeur réelle='Iris-setosa'\n",
      "> La valeur predicte ='Iris-setosa', La valeur réelle='Iris-setosa'\n",
      "> La valeur predicte ='Iris-setosa', La valeur réelle='Iris-setosa'\n",
      "> La valeur predicte ='Iris-setosa', La valeur réelle='Iris-setosa'\n",
      "> La valeur predicte ='Iris-setosa', La valeur réelle='Iris-setosa'\n",
      "> La valeur predicte ='Iris-setosa', La valeur réelle='Iris-setosa'\n",
      "> La valeur predicte ='Iris-setosa', La valeur réelle='Iris-setosa'\n",
      "> La valeur predicte ='Iris-setosa', La valeur réelle='Iris-setosa'\n",
      "> La valeur predicte ='Iris-setosa', La valeur réelle='Iris-setosa'\n",
      "> La valeur predicte ='Iris-setosa', La valeur réelle='Iris-setosa'\n",
      "> La valeur predicte ='Iris-setosa', La valeur réelle='Iris-setosa'\n",
      "> La valeur predicte ='Iris-setosa', La valeur réelle='Iris-setosa'\n",
      "> La valeur predicte ='Iris-setosa', La valeur réelle='Iris-setosa'\n",
      "> La valeur predicte ='Iris-versicolor', La valeur réelle='Iris-versicolor'\n",
      "> La valeur predicte ='Iris-versicolor', La valeur réelle='Iris-versicolor'\n",
      "> La valeur predicte ='Iris-versicolor', La valeur réelle='Iris-versicolor'\n",
      "> La valeur predicte ='Iris-versicolor', La valeur réelle='Iris-versicolor'\n",
      "> La valeur predicte ='Iris-versicolor', La valeur réelle='Iris-versicolor'\n",
      "> La valeur predicte ='Iris-versicolor', La valeur réelle='Iris-versicolor'\n",
      "> La valeur predicte ='Iris-versicolor', La valeur réelle='Iris-versicolor'\n",
      "> La valeur predicte ='Iris-versicolor', La valeur réelle='Iris-versicolor'\n",
      "> La valeur predicte ='Iris-versicolor', La valeur réelle='Iris-versicolor'\n",
      "> La valeur predicte ='Iris-versicolor', La valeur réelle='Iris-versicolor'\n",
      "> La valeur predicte ='Iris-versicolor', La valeur réelle='Iris-versicolor'\n",
      "> La valeur predicte ='Iris-virginica', La valeur réelle='Iris-versicolor'\n",
      "> La valeur predicte ='Iris-versicolor', La valeur réelle='Iris-versicolor'\n",
      "> La valeur predicte ='Iris-versicolor', La valeur réelle='Iris-versicolor'\n",
      "> La valeur predicte ='Iris-versicolor', La valeur réelle='Iris-versicolor'\n",
      "> La valeur predicte ='Iris-versicolor', La valeur réelle='Iris-versicolor'\n",
      "> La valeur predicte ='Iris-versicolor', La valeur réelle='Iris-versicolor'\n",
      "> La valeur predicte ='Iris-versicolor', La valeur réelle='Iris-versicolor'\n",
      "> La valeur predicte ='Iris-versicolor', La valeur réelle='Iris-versicolor'\n",
      "> La valeur predicte ='Iris-virginica', La valeur réelle='Iris-virginica'\n",
      "> La valeur predicte ='Iris-versicolor', La valeur réelle='Iris-virginica'\n",
      "> La valeur predicte ='Iris-virginica', La valeur réelle='Iris-virginica'\n",
      "> La valeur predicte ='Iris-virginica', La valeur réelle='Iris-virginica'\n",
      "> La valeur predicte ='Iris-virginica', La valeur réelle='Iris-virginica'\n",
      "> La valeur predicte ='Iris-virginica', La valeur réelle='Iris-virginica'\n",
      "Précision:  95.556\n"
     ]
    }
   ],
   "source": [
    "import pandas as  pd \n",
    "def main():\n",
    "    trainingSet=[]\n",
    "    testSet=[]\n",
    "    split = 0.67\n",
    "    loadDataset('iris.data.txt', split, trainingSet, testSet)\n",
    "    print ('Train set: ' + repr(len(trainingSet)))\n",
    "    print( 'Test set: ' + repr(len(testSet)) )   \n",
    "    predictions=[]\n",
    "    k = 3\n",
    "    for x in range(len(testSet)):\n",
    "        neighbors = getNeighbors(trainingSet, testSet[x], k)\n",
    "        result = getResponse(neighbors)\n",
    "        predictions.append(result)\n",
    "        print('> La valeur predicte =' + ( repr(result) ) + ', La valeur réelle=' + repr(testSet[x][-1]))\n",
    "    accuracy = getAccuracy(testSet, predictions)\n",
    "    print( 'Précision: ', accuracy)\n",
    "\n",
    "main()"
   ]
  },
  {
   "cell_type": "markdown",
   "id": "fdb574f9",
   "metadata": {},
   "source": [
    "# 7 Autre methode de distancielle "
   ]
  },
  {
   "cell_type": "markdown",
   "id": "2c29f9e4-6d94-4110-8cb2-17e998852e2e",
   "metadata": {},
   "source": [
    "La distance de Manhattan représente la somme des différences absolues entre les coordonnées de deux points."
   ]
  },
  {
   "cell_type": "code",
   "execution_count": 173,
   "id": "0d0502cd",
   "metadata": {},
   "outputs": [
    {
     "name": "stdout",
     "output_type": "stream",
     "text": [
      "La distance de manhattan est de 55\n"
     ]
    }
   ],
   "source": [
    "# la distance de Manhattan fonctionne mieux avec des données de grande dimension et aussi avec de valeur aberante \n",
    "def manhattan_distance(point1, point2): #\n",
    "    # distance = |x2-x1| + |y2-y1|\n",
    "    distance = 0 \n",
    "    for x1, x2 in zip(point1, point2): # la fonction Zip  prend des conteneurs itérables et retourne un seul objet itérateur, \n",
    "    # ayant mappé les valeurs de tous les conteneurs\n",
    "\n",
    "        difference = x2 - x1\n",
    "        absolute_difference = abs(difference) # abs c'est la valeur absolue en python \n",
    "        distance += absolute_difference\n",
    "\n",
    "    return distance\n",
    "\n",
    "# Testons notre fonction \n",
    "list_a = [1,2,3,4] #\n",
    "list_b = [1,3,4,57]\n",
    "print(\"La distance de manhattan est de {}\".format(manhattan_distance(list_a, list_b)))"
   ]
  },
  {
   "cell_type": "code",
   "execution_count": null,
   "id": "2240dba9-d1dc-4c62-a141-970c8effe79c",
   "metadata": {},
   "outputs": [],
   "source": [
    "\n"
   ]
  },
  {
   "cell_type": "code",
   "execution_count": null,
   "id": "5bcc31c6-842f-48b2-9e7c-6a0e23c6ac3b",
   "metadata": {},
   "outputs": [],
   "source": []
  }
 ],
 "metadata": {
  "kernelspec": {
   "display_name": "Python 3.11.0 64-bit",
   "language": "python",
   "name": "python3"
  },
  "language_info": {
   "codemirror_mode": {
    "name": "ipython",
    "version": 3
   },
   "file_extension": ".py",
   "mimetype": "text/x-python",
   "name": "python",
   "nbconvert_exporter": "python",
   "pygments_lexer": "ipython3",
   "version": "3.11.0"
  },
  "vscode": {
   "interpreter": {
    "hash": "6252a103db7ee1393beb633fd48d5ef2e43cebb291f88e9d3abab6a9346562a0"
   }
  }
 },
 "nbformat": 4,
 "nbformat_minor": 5
}
